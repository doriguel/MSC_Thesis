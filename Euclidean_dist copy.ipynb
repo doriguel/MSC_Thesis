{
 "cells": [
  {
   "cell_type": "markdown",
   "metadata": {},
   "source": [
    "# Load Landmark Files"
   ]
  },
  {
   "cell_type": "markdown",
   "metadata": {},
   "source": [
    "## MRI "
   ]
  },
  {
   "cell_type": "code",
   "execution_count": 3,
   "metadata": {},
   "outputs": [],
   "source": [
    "import pandas as pd\n",
    "import os"
   ]
  },
  {
   "cell_type": "code",
   "execution_count": 4,
   "metadata": {},
   "outputs": [
    {
     "data": {
      "text/plain": [
       "'/Users/student/Desktop/Deise'"
      ]
     },
     "execution_count": 4,
     "metadata": {},
     "output_type": "execute_result"
    }
   ],
   "source": [
    "os.getcwd()"
   ]
  },
  {
   "cell_type": "code",
   "execution_count": 9,
   "metadata": {},
   "outputs": [],
   "source": [
    "MRI_1 = pd.read_csv(r'Landmarks\\MRI\\Case1_MRI.txt',header=None, dtype={2:'str'})\n",
    "MRI_1.columns=['coordinates']\n",
    "MRI_1[['x','y','z']] = MRI_1.coordinates.str.split(' ',expand=True)\n",
    "MRI_1.drop('coordinates', axis=1, inplace=True)\n",
    "MRI_1 = MRI_1.apply(pd.to_numeric)\n",
    "\n",
    "MRI_2 = pd.read_csv(r'Landmarks\\MRI\\Case2_MRI.txt',header=None, dtype={2:'str'})\n",
    "MRI_2.columns=['coordinates']\n",
    "MRI_2[['x','y','z']] = MRI_2.coordinates.str.split(' ',expand=True)\n",
    "MRI_2.drop('coordinates', axis=1, inplace=True)\n",
    "MRI_2 = MRI_2.apply(pd.to_numeric)\n",
    "\n",
    "MRI_3 = pd.read_csv(r'Landmarks\\MRI\\Case3_MRI.txt',header=None, dtype={2:'str'})\n",
    "MRI_3.columns=['coordinates']\n",
    "MRI_3[['x','y','z']] = MRI_3.coordinates.str.split(' ',expand=True)\n",
    "MRI_3.drop('coordinates', axis=1, inplace=True)\n",
    "MRI_3 = MRI_3.apply(pd.to_numeric)\n",
    "\n",
    "MRI_4 = pd.read_csv(r'Landmarks\\MRI\\Case4_MRI.txt',header=None, dtype={2:'str'})\n",
    "MRI_4.columns=['coordinates']\n",
    "MRI_4[['x','y','z']] = MRI_4.coordinates.str.split(' ',expand=True)\n",
    "MRI_4.drop('coordinates', axis=1, inplace=True)\n",
    "MRI_4 = MRI_4.apply(pd.to_numeric)\n",
    "\n",
    "MRI_5 = pd.read_csv(r'Landmarks\\MRI\\Case5_MRI.txt',header=None, dtype={2:'str'})\n",
    "MRI_5.columns=['coordinates']\n",
    "MRI_5[['x','y','z']] = MRI_5.coordinates.str.split(' ',expand=True)\n",
    "MRI_5.drop('coordinates', axis=1, inplace=True)\n",
    "MRI_5 = MRI_5.apply(pd.to_numeric)\n",
    "\n",
    "MRI_6 = pd.read_csv(r'Landmarks\\MRI\\Case6_MRI.txt',header=None, dtype={2:'str'})\n",
    "MRI_6.columns=['coordinates']\n",
    "MRI_6[['x','y','z']] = MRI_6.coordinates.str.split(' ',expand=True)\n",
    "MRI_6.drop('coordinates', axis=1, inplace=True)\n",
    "MRI_6 = MRI_6.apply(pd.to_numeric)\n",
    "\n",
    "MRI_7 = pd.read_csv(r'Landmarks\\MRI\\Case7_MRI.txt',header=None, dtype={2:'str'})\n",
    "MRI_7.columns=['coordinates']\n",
    "MRI_7[['x','y','z']] = MRI_7.coordinates.str.split(' ',expand=True)\n",
    "MRI_7.drop('coordinates', axis=1, inplace=True)\n",
    "MRI_7 = MRI_7.apply(pd.to_numeric)\n",
    "\n",
    "MRI_8 = pd.read_csv(r'Landmarks\\MRI\\Case8_MRI.txt',header=None, dtype={2:'str'})\n",
    "MRI_8.columns=['coordinates']\n",
    "MRI_8[['x','y','z']] = MRI_8.coordinates.str.split(' ',expand=True)\n",
    "MRI_8.drop('coordinates', axis=1, inplace=True)\n",
    "MRI_8 = MRI_8.apply(pd.to_numeric)\n",
    "\n",
    "MRI_12 = pd.read_csv(r'Landmarks\\MRI\\Case12_MRI.txt',header=None, dtype={2:'str'})\n",
    "MRI_12.columns=['coordinates']\n",
    "MRI_12[['x','y','z']] = MRI_12.coordinates.str.split(' ',expand=True)\n",
    "MRI_12.drop('coordinates', axis=1, inplace=True)\n",
    "MRI_12 = MRI_12.apply(pd.to_numeric)\n",
    "\n",
    "MRI_13 = pd.read_csv(r'Landmarks\\MRI\\Case13_MRI.txt',header=None, dtype={2:'str'})\n",
    "MRI_13.columns=['coordinates']\n",
    "MRI_13[['x','y','z']] = MRI_13.coordinates.str.split(' ',expand=True)\n",
    "MRI_13.drop('coordinates', axis=1, inplace=True)\n",
    "MRI_13 = MRI_13.apply(pd.to_numeric)\n",
    "\n",
    "MRI_14 = pd.read_csv(r'Landmarks\\MRI\\Case14_MRI.txt',header=None, dtype={2:'str'})\n",
    "MRI_14.columns=['coordinates']\n",
    "MRI_14[['x','y','z']] = MRI_14.coordinates.str.split(' ',expand=True)\n",
    "MRI_14.drop('coordinates', axis=1, inplace=True)\n",
    "MRI_14 = MRI_14.apply(pd.to_numeric)\n",
    "\n",
    "MRI_15 = pd.read_csv(r'Landmarks\\MRI\\Case15_MRI.txt',header=None, dtype={2:'str'})\n",
    "MRI_15.columns=['coordinates']\n",
    "MRI_15[['x','y','z']] = MRI_15.coordinates.str.split(' ',expand=True)\n",
    "MRI_15.drop('coordinates', axis=1, inplace=True)\n",
    "MRI_15 = MRI_15.apply(pd.to_numeric)\n",
    "\n",
    "MRI_16 = pd.read_csv(r'Landmarks\\MRI\\Case16_MRI.txt',header=None, dtype={2:'str'})\n",
    "MRI_16.columns=['coordinates']\n",
    "MRI_16[['x','y','z']] = MRI_16.coordinates.str.split(' ',expand=True)\n",
    "MRI_16.drop('coordinates', axis=1, inplace=True)\n",
    "MRI_16 = MRI_16.apply(pd.to_numeric)\n",
    "\n",
    "MRI_17 = pd.read_csv(r'Landmarks\\MRI\\Case17_MRI.txt',header=None, dtype={2:'str'})\n",
    "MRI_17.columns=['coordinates']\n",
    "MRI_17[['x','y','z']] = MRI_17.coordinates.str.split(' ',expand=True)\n",
    "MRI_17.drop('coordinates', axis=1, inplace=True)\n",
    "MRI_17 = MRI_17.apply(pd.to_numeric)\n",
    "\n",
    "MRI_18 = pd.read_csv(r'Landmarks\\MRI\\Case18_MRI.txt',header=None, dtype={2:'str'})\n",
    "MRI_18.columns=['coordinates']\n",
    "MRI_18[['x','y','z']] = MRI_18.coordinates.str.split(' ',expand=True)\n",
    "MRI_18.drop('coordinates', axis=1, inplace=True)\n",
    "MRI_18 = MRI_18.apply(pd.to_numeric)\n",
    "\n",
    "MRI_19 = pd.read_csv(r'Landmarks\\MRI\\Case19_MRI.txt',header=None, dtype={2:'str'})\n",
    "MRI_19.columns=['coordinates']\n",
    "MRI_19[['x','y','z']] = MRI_19.coordinates.str.split(' ',expand=True)\n",
    "MRI_19.drop('coordinates', axis=1, inplace=True)\n",
    "MRI_19 = MRI_19.apply(pd.to_numeric)\n",
    "\n",
    "MRI_21 = pd.read_csv(r'Landmarks\\MRI\\Case21_MRI.txt',header=None, dtype={2:'str'})\n",
    "MRI_21.columns=['coordinates']\n",
    "MRI_21[['x','y','z']] = MRI_21.coordinates.str.split(' ',expand=True)\n",
    "MRI_21.drop('coordinates', axis=1, inplace=True)\n",
    "MRI_21 = MRI_21.apply(pd.to_numeric)\n",
    "\n",
    "MRI_23 = pd.read_csv(r'Landmarks\\MRI\\Case23_MRI.txt',header=None, dtype={2:'str'})\n",
    "MRI_23.columns=['coordinates']\n",
    "MRI_23[['x','y','z']] = MRI_23.coordinates.str.split(' ',expand=True)\n",
    "MRI_23.drop('coordinates', axis=1, inplace=True)\n",
    "MRI_23 = MRI_23.apply(pd.to_numeric)\n",
    "\n",
    "MRI_24 = pd.read_csv(r'Landmarks\\MRI\\Case24_MRI.txt',header=None, dtype={2:'str'})\n",
    "MRI_24.columns=['coordinates']\n",
    "MRI_24[['x','y','z']] = MRI_24.coordinates.str.split(' ',expand=True)\n",
    "MRI_24.drop('coordinates', axis=1, inplace=True)\n",
    "MRI_24 = MRI_24.apply(pd.to_numeric)\n",
    "\n",
    "MRI_25 = pd.read_csv(r'Landmarks\\MRI\\Case25_MRI.txt',header=None, dtype={2:'str'})\n",
    "MRI_25.columns=['coordinates']\n",
    "MRI_25[['x','y','z']] = MRI_25.coordinates.str.split(' ',expand=True)\n",
    "MRI_25.drop('coordinates', axis=1, inplace=True)\n",
    "MRI_25 = MRI_25.apply(pd.to_numeric)\n",
    "\n",
    "MRI_26 = pd.read_csv(r'Landmarks\\MRI\\Case26_MRI.txt',header=None, dtype={2:'str'})\n",
    "MRI_26.columns=['coordinates']\n",
    "MRI_26[['x','y','z']] = MRI_26.coordinates.str.split(' ',expand=True)\n",
    "MRI_26.drop('coordinates', axis=1, inplace=True)\n",
    "MRI_26 = MRI_26.apply(pd.to_numeric)\n",
    "\n",
    "MRI_27 = pd.read_csv(r'Landmarks\\MRI\\Case27_MRI.txt',header=None, dtype={2:'str'})\n",
    "MRI_27.columns=['coordinates']\n",
    "MRI_27[['x','y','z']] = MRI_27.coordinates.str.split(' ',expand=True)\n",
    "MRI_27.drop('coordinates', axis=1, inplace=True)\n",
    "MRI_27 = MRI_27.apply(pd.to_numeric)"
   ]
  },
  {
   "cell_type": "markdown",
   "metadata": {},
   "source": [
    "## US_Before Registration"
   ]
  },
  {
   "cell_type": "code",
   "execution_count": 10,
   "metadata": {},
   "outputs": [],
   "source": [
    "US_b1 = pd.read_csv(r'Landmarks\\US_before\\Case1\\inputPoints.txt', header=None, skiprows=2, dtype={2:'str'})\n",
    "US_b1.columns=['coordinates']\n",
    "US_b1[['x','y','z']] = US_b1.coordinates.str.split(' ',expand=True)\n",
    "US_b1.drop('coordinates', axis=1, inplace=True)\n",
    "US_b1 = US_b1.apply(pd.to_numeric)\n",
    "\n",
    "US_b2 = pd.read_csv(r'Landmarks\\US_before\\Case2\\inputPoints.txt', header=None, skiprows=2, dtype={2:'str'})\n",
    "US_b2.columns=['coordinates']\n",
    "US_b2[['x','y','z']] = US_b2.coordinates.str.split(' ',expand=True)\n",
    "US_b2.drop('coordinates', axis=1, inplace=True)\n",
    "US_b2 = US_b2.apply(pd.to_numeric)\n",
    "\n",
    "US_b3 = pd.read_csv(r'Landmarks\\US_before\\Case3\\inputPoints.txt', header=None, skiprows=2, dtype={2:'str'})\n",
    "US_b3.columns=['coordinates']\n",
    "US_b3[['x','y','z']] = US_b3.coordinates.str.split(' ',expand=True)\n",
    "US_b3.drop('coordinates', axis=1, inplace=True)\n",
    "US_b3 = US_b3.apply(pd.to_numeric)\n",
    "\n",
    "US_b4 = pd.read_csv(r'Landmarks\\US_before\\Case4\\inputPoints.txt', header=None, skiprows=2, dtype={2:'str'})\n",
    "US_b4.columns=['coordinates']\n",
    "US_b4[['x','y','z']] = US_b4.coordinates.str.split(' ',expand=True)\n",
    "US_b4.drop('coordinates', axis=1, inplace=True)\n",
    "US_b4 = US_b4.apply(pd.to_numeric)\n",
    "\n",
    "US_b5 = pd.read_csv(r'Landmarks\\US_before\\Case5\\inputPoints.txt', header=None, skiprows=2, dtype={2:'str'})\n",
    "US_b5.columns=['coordinates']\n",
    "US_b5[['x','y','z']] = US_b5.coordinates.str.split(' ',expand=True)\n",
    "US_b5.drop('coordinates', axis=1, inplace=True)\n",
    "US_b5 = US_b5.apply(pd.to_numeric)\n",
    "\n",
    "US_b6 = pd.read_csv(r'Landmarks\\US_before\\Case6\\inputPoints.txt', header=None, skiprows=2, dtype={2:'str'})\n",
    "US_b6.columns=['coordinates']\n",
    "US_b6[['x','y','z']] = US_b6.coordinates.str.split(' ',expand=True)\n",
    "US_b6.drop('coordinates', axis=1, inplace=True)\n",
    "US_b6 = US_b6.apply(pd.to_numeric)\n",
    "\n",
    "US_b7 = pd.read_csv(r'Landmarks\\US_before\\Case7\\inputPoints.txt', header=None, skiprows=2, dtype={2:'str'})\n",
    "US_b7.columns=['coordinates']\n",
    "US_b7[['x','y','z']] = US_b7.coordinates.str.split(' ',expand=True)\n",
    "US_b7.drop('coordinates', axis=1, inplace=True)\n",
    "US_b7 = US_b7.apply(pd.to_numeric)\n",
    "\n",
    "US_b8 = pd.read_csv(r'Landmarks\\US_before\\Case8\\inputPoints.txt', header=None, skiprows=2, dtype={2:'str'})\n",
    "US_b8.columns=['coordinates']\n",
    "US_b8[['x','y','z']] = US_b8.coordinates.str.split(' ',expand=True)\n",
    "US_b8.drop('coordinates', axis=1, inplace=True)\n",
    "US_b8 = US_b8.apply(pd.to_numeric)\n",
    "\n",
    "US_b12 = pd.read_csv(r'Landmarks\\US_before\\Case12\\inputPoints.txt', header=None, skiprows=2, dtype={2:'str'})\n",
    "US_b12.columns=['coordinates']\n",
    "US_b12[['x','y','z']] = US_b12.coordinates.str.split(' ',expand=True)\n",
    "US_b12.drop('coordinates', axis=1, inplace=True)\n",
    "US_b12 = US_b12.apply(pd.to_numeric)\n",
    "\n",
    "US_b13 = pd.read_csv(r'Landmarks\\US_before\\Case13\\inputPoints.txt', header=None, skiprows=2, dtype={2:'str'})\n",
    "US_b13.columns=['coordinates']\n",
    "US_b13[['x','y','z']] = US_b13.coordinates.str.split(' ',expand=True)\n",
    "US_b13.drop('coordinates', axis=1, inplace=True)\n",
    "US_b13 = US_b13.apply(pd.to_numeric)\n",
    "\n",
    "US_b14 = pd.read_csv(r'Landmarks\\US_before\\Case14\\inputPoints.txt', header=None, skiprows=2, dtype={2:'str'})\n",
    "US_b14.columns=['coordinates']\n",
    "US_b14[['x','y','z']] = US_b14.coordinates.str.split(' ',expand=True)\n",
    "US_b14.drop('coordinates', axis=1, inplace=True)\n",
    "US_b14 = US_b14.apply(pd.to_numeric)\n",
    "\n",
    "US_b15 = pd.read_csv(r'Landmarks\\US_before\\Case15\\inputPoints.txt', header=None, skiprows=2, dtype={2:'str'})\n",
    "US_b15.columns=['coordinates']\n",
    "US_b15[['x','y','z']] = US_b15.coordinates.str.split(' ',expand=True)\n",
    "US_b15.drop('coordinates', axis=1, inplace=True)\n",
    "US_b15 = US_b15.apply(pd.to_numeric)\n",
    "\n",
    "US_b16 = pd.read_csv(r'Landmarks\\US_before\\Case16\\inputPoints.txt', header=None, skiprows=2, dtype={2:'str'})\n",
    "US_b16.columns=['coordinates']\n",
    "US_b16[['x','y','z']] = US_b16.coordinates.str.split(' ',expand=True)\n",
    "US_b16.drop('coordinates', axis=1, inplace=True)\n",
    "US_b16 = US_b16.apply(pd.to_numeric)\n",
    "\n",
    "US_b17 = pd.read_csv(r'Landmarks\\US_before\\Case17\\inputPoints.txt', header=None, skiprows=2, dtype={2:'str'})\n",
    "US_b17.columns=['coordinates']\n",
    "US_b17[['x','y','z']] = US_b17.coordinates.str.split(' ',expand=True)\n",
    "US_b17.drop('coordinates', axis=1, inplace=True)\n",
    "US_b17 = US_b17.apply(pd.to_numeric)\n",
    "\n",
    "US_b18 = pd.read_csv(r'Landmarks\\US_before\\Case18\\inputPoints.txt', header=None, skiprows=2, dtype={2:'str'})\n",
    "US_b18.columns=['coordinates']\n",
    "US_b18[['x','y','z']] = US_b18.coordinates.str.split(' ',expand=True)\n",
    "US_b18.drop('coordinates', axis=1, inplace=True)\n",
    "US_b18 = US_b18.apply(pd.to_numeric)\n",
    "\n",
    "US_b19 = pd.read_csv(r'Landmarks\\US_before\\Case19\\inputPoints.txt', header=None, skiprows=2, dtype={2:'str'})\n",
    "US_b19.columns=['coordinates']\n",
    "US_b19[['x','y','z']] = US_b19.coordinates.str.split(' ',expand=True)\n",
    "US_b19.drop('coordinates', axis=1, inplace=True)\n",
    "US_b19 = US_b19.apply(pd.to_numeric)\n",
    "\n",
    "US_b21 = pd.read_csv(r'Landmarks\\US_before\\Case21\\inputPoints.txt', header=None, skiprows=2, dtype={2:'str'})\n",
    "US_b21.columns=['coordinates']\n",
    "US_b21[['x','y','z']] = US_b21.coordinates.str.split(' ',expand=True)\n",
    "US_b21.drop('coordinates', axis=1, inplace=True)\n",
    "US_b21 = US_b21.apply(pd.to_numeric)\n",
    "\n",
    "US_b23 = pd.read_csv(r'Landmarks\\US_before\\Case23\\inputPoints.txt', header=None, skiprows=2, dtype={2:'str'})\n",
    "US_b23.columns=['coordinates']\n",
    "US_b23[['x','y','z']] = US_b23.coordinates.str.split(' ',expand=True)\n",
    "US_b23.drop('coordinates', axis=1, inplace=True)\n",
    "US_b23 = US_b23.apply(pd.to_numeric)\n",
    "\n",
    "US_b24 = pd.read_csv(r'Landmarks\\US_before\\Case24\\inputPoints.txt', header=None, skiprows=2, dtype={2:'str'})\n",
    "US_b24.columns=['coordinates']\n",
    "US_b24[['x','y','z']] = US_b24.coordinates.str.split(' ',expand=True)\n",
    "US_b24.drop('coordinates', axis=1, inplace=True)\n",
    "US_b24 = US_b24.apply(pd.to_numeric)\n",
    "\n",
    "US_b25 = pd.read_csv(r'Landmarks\\US_before\\Case25\\inputPoints.txt', header=None, skiprows=2, dtype={2:'str'})\n",
    "US_b25.columns=['coordinates']\n",
    "US_b25[['x','y','z']] = US_b25.coordinates.str.split(' ',expand=True)\n",
    "US_b25.drop('coordinates', axis=1, inplace=True)\n",
    "US_b25 = US_b25.apply(pd.to_numeric)\n",
    "\n",
    "US_b26 = pd.read_csv(r'Landmarks\\US_before\\Case26\\inputPoints.txt', header=None, skiprows=2, dtype={2:'str'})\n",
    "US_b26.columns=['coordinates']\n",
    "US_b26[['x','y','z']] = US_b26.coordinates.str.split(' ',expand=True)\n",
    "US_b26.drop('coordinates', axis=1, inplace=True)\n",
    "US_b26 = US_b26.apply(pd.to_numeric)\n",
    "\n",
    "US_b27 = pd.read_csv(r'Landmarks\\US_before\\Case27\\inputPoints.txt', header=None, skiprows=2, dtype={2:'str'})\n",
    "US_b27.columns=['coordinates']\n",
    "US_b27[['x','y','z']] = US_b27.coordinates.str.split(' ',expand=True)\n",
    "US_b27.drop('coordinates', axis=1, inplace=True)\n",
    "US_b27 = US_b27.apply(pd.to_numeric)"
   ]
  },
  {
   "cell_type": "markdown",
   "metadata": {},
   "source": [
    "## US_After Registration"
   ]
  },
  {
   "cell_type": "code",
   "execution_count": null,
   "metadata": {},
   "outputs": [],
   "source": []
  },
  {
   "cell_type": "markdown",
   "metadata": {},
   "source": [
    "# Distance between MRI and US - Before Registration"
   ]
  },
  {
   "cell_type": "code",
   "execution_count": 12,
   "metadata": {},
   "outputs": [],
   "source": [
    "from scipy.spatial import distance\n",
    "import numpy as np\n",
    "import math"
   ]
  },
  {
   "cell_type": "code",
   "execution_count": 13,
   "metadata": {},
   "outputs": [],
   "source": [
    "D_b1 = np.array([])\n",
    "\n",
    "for i in range (len(MRI_1)):\n",
    "    dist = math.sqrt((MRI_1.x[i]-US_b1.x[i])**2 + (MRI_1.y[i]-US_b1.y[i])**2 + (MRI_1.z[i]-US_b1.z[i])**2)\n",
    "    D_b1 = np.append(D_b1, dist)\n",
    "    \n",
    "Euc_b1 = np.mean(D_b1)"
   ]
  },
  {
   "cell_type": "code",
   "execution_count": 14,
   "metadata": {},
   "outputs": [],
   "source": [
    "D_b2 = np.array([])\n",
    "\n",
    "for i in range (len(MRI_2)):\n",
    "    dist2 = math.sqrt((MRI_2.x[i]-US_b2.x[i])**2 + (MRI_2.y[i]-US_b2.y[i])**2 + (MRI_2.z[i]-US_b2.z[i])**2)\n",
    "    D_b2 = np.append(D_b2, dist2)\n",
    "    \n",
    "Euc_b2 = np.mean(D_b2)"
   ]
  },
  {
   "cell_type": "code",
   "execution_count": 15,
   "metadata": {},
   "outputs": [],
   "source": [
    "D_b3 = np.array([])\n",
    "\n",
    "for i in range (len(MRI_3)):\n",
    "    dist3 = math.sqrt((MRI_3.x[i]-US_b3.x[i])**2 + (MRI_3.y[i]-US_b3.y[i])**2 + (MRI_3.z[i]-US_b3.z[i])**2)\n",
    "    D_b3 = np.append(D_b3, dist3)\n",
    "    \n",
    "Euc_b3 = np.mean(D_b3)"
   ]
  },
  {
   "cell_type": "code",
   "execution_count": 16,
   "metadata": {},
   "outputs": [],
   "source": [
    "D_b4 = np.array([])\n",
    "\n",
    "for i in range (len(MRI_4)):\n",
    "    dist4 = math.sqrt((MRI_4.x[i]-US_b4.x[i])**2 + (MRI_4.y[i]-US_b4.y[i])**2 + (MRI_4.z[i]-US_b4.z[i])**2)\n",
    "    D_b4 = np.append(D_b4, dist4)\n",
    "    \n",
    "Euc_b4 = np.mean(D_b4)"
   ]
  },
  {
   "cell_type": "code",
   "execution_count": 17,
   "metadata": {},
   "outputs": [],
   "source": [
    "D_b5 = np.array([])\n",
    "\n",
    "for i in range (len(MRI_5)):\n",
    "    dist5 = math.sqrt((MRI_5.x[i]-US_b5.x[i])**2 + (MRI_5.y[i]-US_b5.y[i])**2 + (MRI_5.z[i]-US_b5.z[i])**2)\n",
    "    D_b5 = np.append(D_b5, dist2)\n",
    "    \n",
    "Euc_b5 = np.mean(D_b5)"
   ]
  },
  {
   "cell_type": "code",
   "execution_count": 18,
   "metadata": {},
   "outputs": [],
   "source": [
    "D_b6 = np.array([])\n",
    "\n",
    "for i in range (len(MRI_6)):\n",
    "    dist6 = math.sqrt((MRI_6.x[i]-US_b6.x[i])**2 + (MRI_6.y[i]-US_b6.y[i])**2 + (MRI_6.z[i]-US_b6.z[i])**2)\n",
    "    D_b6 = np.append(D_b6, dist6)\n",
    "    \n",
    "Euc_b6 = np.mean(D_b6)"
   ]
  },
  {
   "cell_type": "code",
   "execution_count": 19,
   "metadata": {},
   "outputs": [],
   "source": [
    "D_b7 = np.array([])\n",
    "\n",
    "for i in range (len(MRI_7)):\n",
    "    dist7 = math.sqrt((MRI_7.x[i]-US_b7.x[i])**2 + (MRI_7.y[i]-US_b7.y[i])**2 + (MRI_7.z[i]-US_b7.z[i])**2)\n",
    "    D_b7 = np.append(D_b7, dist7)\n",
    "    \n",
    "Euc_b7 = np.mean(D_b7)"
   ]
  },
  {
   "cell_type": "code",
   "execution_count": 20,
   "metadata": {},
   "outputs": [],
   "source": [
    "D_b8 = np.array([])\n",
    "\n",
    "for i in range (len(MRI_8)):\n",
    "    dist8 = math.sqrt((MRI_8.x[i]-US_b8.x[i])**2 + (MRI_8.y[i]-US_b8.y[i])**2 + (MRI_8.z[i]-US_b8.z[i])**2)\n",
    "    D_b8 = np.append(D_b8, dist8)\n",
    "    \n",
    "Euc_b8 = np.mean(D_b8)"
   ]
  },
  {
   "cell_type": "code",
   "execution_count": 21,
   "metadata": {},
   "outputs": [],
   "source": [
    "D_b12 = np.array([])\n",
    "\n",
    "for i in range (len(MRI_12)):\n",
    "    dist12 = math.sqrt((MRI_12.x[i]-US_b12.x[i])**2 + (MRI_12.y[i]-US_b12.y[i])**2 + (MRI_12.z[i]-US_b12.z[i])**2)\n",
    "    D_b12 = np.append(D_b12, dist12)\n",
    "    \n",
    "Euc_b12 = np.mean(D_b12)"
   ]
  },
  {
   "cell_type": "code",
   "execution_count": 22,
   "metadata": {},
   "outputs": [],
   "source": [
    "D_b13 = np.array([])\n",
    "\n",
    "for i in range (len(MRI_13)):\n",
    "    dist13 = math.sqrt((MRI_13.x[i]-US_b13.x[i])**2 + (MRI_13.y[i]-US_b13.y[i])**2 + (MRI_13.z[i]-US_b13.z[i])**2)\n",
    "    D_b13 = np.append(D_b13, dist13)\n",
    "    \n",
    "Euc_b13 = np.mean(D_b13)"
   ]
  },
  {
   "cell_type": "code",
   "execution_count": 23,
   "metadata": {},
   "outputs": [],
   "source": [
    "D_b14 = np.array([])\n",
    "\n",
    "for i in range (len(MRI_14)):\n",
    "    dist14 = math.sqrt((MRI_14.x[i]-US_b14.x[i])**2 + (MRI_14.y[i]-US_b14.y[i])**2 + (MRI_14.z[i]-US_b14.z[i])**2)\n",
    "    D_b14 = np.append(D_b14, dist14)\n",
    "    \n",
    "Euc_b14 = np.mean(D_b14)"
   ]
  },
  {
   "cell_type": "code",
   "execution_count": 24,
   "metadata": {},
   "outputs": [],
   "source": [
    "D_b15 = np.array([])\n",
    "\n",
    "for i in range (len(MRI_15)):\n",
    "    dist15 = math.sqrt((MRI_15.x[i]-US_b15.x[i])**2 + (MRI_15.y[i]-US_b15.y[i])**2 + (MRI_15.z[i]-US_b15.z[i])**2)\n",
    "    D_b15 = np.append(D_b15, dist15)\n",
    "    \n",
    "Euc_b15 = np.mean(D_b15)"
   ]
  },
  {
   "cell_type": "code",
   "execution_count": 25,
   "metadata": {},
   "outputs": [],
   "source": [
    "D_b16 = np.array([])\n",
    "\n",
    "for i in range (len(MRI_16)):\n",
    "    dist16 = math.sqrt((MRI_16.x[i]-US_b16.x[i])**2 + (MRI_16.y[i]-US_b16.y[i])**2 + (MRI_16.z[i]-US_b16.z[i])**2)\n",
    "    D_b16 = np.append(D_b16, dist16)\n",
    "    \n",
    "Euc_b16 = np.mean(D_b16)"
   ]
  },
  {
   "cell_type": "code",
   "execution_count": 26,
   "metadata": {},
   "outputs": [],
   "source": [
    "D_b17 = np.array([])\n",
    "\n",
    "for i in range (len(MRI_17)):\n",
    "    dist17 = math.sqrt((MRI_17.x[i]-US_b17.x[i])**2 + (MRI_17.y[i]-US_b17.y[i])**2 + (MRI_17.z[i]-US_b17.z[i])**2)\n",
    "    D_b17 = np.append(D_b17, dist17)\n",
    "    \n",
    "Euc_b17 = np.mean(D_b17)"
   ]
  },
  {
   "cell_type": "code",
   "execution_count": 27,
   "metadata": {},
   "outputs": [],
   "source": [
    "D_b18 = np.array([])\n",
    "\n",
    "for i in range (len(MRI_18)):\n",
    "    dist18 = math.sqrt((MRI_18.x[i]-US_b18.x[i])**2 + (MRI_18.y[i]-US_b18.y[i])**2 + (MRI_18.z[i]-US_b18.z[i])**2)\n",
    "    D_b18 = np.append(D_b18, dist18)\n",
    "    \n",
    "Euc_b18 = np.mean(D_b18)"
   ]
  },
  {
   "cell_type": "code",
   "execution_count": 28,
   "metadata": {},
   "outputs": [],
   "source": [
    "D_b19 = np.array([])\n",
    "\n",
    "for i in range (len(MRI_19)):\n",
    "    dist19 = math.sqrt((MRI_19.x[i]-US_b19.x[i])**2 + (MRI_19.y[i]-US_b19.y[i])**2 + (MRI_19.z[i]-US_b19.z[i])**2)\n",
    "    D_b19 = np.append(D_b19, dist19)\n",
    "    \n",
    "Euc_b19 = np.mean(D_b19)"
   ]
  },
  {
   "cell_type": "code",
   "execution_count": 29,
   "metadata": {},
   "outputs": [],
   "source": [
    "D_b21 = np.array([])\n",
    "\n",
    "for i in range (len(MRI_21)):\n",
    "    dist21 = math.sqrt((MRI_21.x[i]-US_b21.x[i])**2 + (MRI_21.y[i]-US_b21.y[i])**2 + (MRI_21.z[i]-US_b21.z[i])**2)\n",
    "    D_b21 = np.append(D_b21, dist21)\n",
    "    \n",
    "Euc_b21 = np.mean(D_b21)"
   ]
  },
  {
   "cell_type": "code",
   "execution_count": 30,
   "metadata": {},
   "outputs": [],
   "source": [
    "D_b23 = np.array([])\n",
    "\n",
    "for i in range (len(MRI_23)):\n",
    "    dist23 = math.sqrt((MRI_23.x[i]-US_b23.x[i])**2 + (MRI_23.y[i]-US_b23.y[i])**2 + (MRI_23.z[i]-US_b23.z[i])**2)\n",
    "    D_b23 = np.append(D_b23, dist23)\n",
    "    \n",
    "Euc_b23 = np.mean(D_b23)"
   ]
  },
  {
   "cell_type": "code",
   "execution_count": 31,
   "metadata": {},
   "outputs": [],
   "source": [
    "D_b24 = np.array([])\n",
    "\n",
    "for i in range (len(MRI_24)):\n",
    "    dist24 = math.sqrt((MRI_24.x[i]-US_b24.x[i])**2 + (MRI_24.y[i]-US_b24.y[i])**2 + (MRI_24.z[i]-US_b24.z[i])**2)\n",
    "    D_b24 = np.append(D_b24, dist24)\n",
    "    \n",
    "Euc_b24 = np.mean(D_b24)"
   ]
  },
  {
   "cell_type": "code",
   "execution_count": 32,
   "metadata": {},
   "outputs": [],
   "source": [
    "D_b25 = np.array([])\n",
    "\n",
    "for i in range (len(MRI_25)):\n",
    "    dist25 = math.sqrt((MRI_25.x[i]-US_b25.x[i])**2 + (MRI_25.y[i]-US_b25.y[i])**2 + (MRI_25.z[i]-US_b25.z[i])**2)\n",
    "    D_b25 = np.append(D_b25, dist25)\n",
    "    \n",
    "Euc_b25 = np.mean(D_b25)"
   ]
  },
  {
   "cell_type": "code",
   "execution_count": 33,
   "metadata": {},
   "outputs": [],
   "source": [
    "D_b26 = np.array([])\n",
    "\n",
    "for i in range (len(MRI_26)):\n",
    "    dist26 = math.sqrt((MRI_26.x[i]-US_b26.x[i])**2 + (MRI_26.y[i]-US_b26.y[i])**2 + (MRI_26.z[i]-US_b26.z[i])**2)\n",
    "    D_b26 = np.append(D_b26, dist26)\n",
    "    \n",
    "Euc_b26 = np.mean(D_b26)"
   ]
  },
  {
   "cell_type": "code",
   "execution_count": 34,
   "metadata": {},
   "outputs": [],
   "source": [
    "D_b27 = np.array([])\n",
    "\n",
    "for i in range (len(MRI_27)):\n",
    "    dist27 = math.sqrt((MRI_27.x[i]-US_b27.x[i])**2 + (MRI_27.y[i]-US_b27.y[i])**2 + (MRI_27.z[i]-US_b27.z[i])**2)\n",
    "    D_b27 = np.append(D_b27, dist27)\n",
    "    \n",
    "Euc_b27 = np.mean(D_b27)"
   ]
  },
  {
   "cell_type": "markdown",
   "metadata": {},
   "source": [
    "# Distance between MRI and US - After Registration"
   ]
  },
  {
   "cell_type": "code",
   "execution_count": null,
   "metadata": {},
   "outputs": [],
   "source": []
  },
  {
   "cell_type": "markdown",
   "metadata": {},
   "source": [
    "# Comparison table"
   ]
  },
  {
   "cell_type": "code",
   "execution_count": 38,
   "metadata": {},
   "outputs": [
    {
     "ename": "ImportError",
     "evalue": "No module named graph_objects",
     "output_type": "error",
     "traceback": [
      "\u001b[0;31m---------------------------------------------------------------------------\u001b[0m",
      "\u001b[0;31mImportError\u001b[0m                               Traceback (most recent call last)",
      "\u001b[0;32m<ipython-input-38-e4295d88063b>\u001b[0m in \u001b[0;36m<module>\u001b[0;34m()\u001b[0m\n\u001b[1;32m      2\u001b[0m \u001b[0mdistances\u001b[0m \u001b[0;34m=\u001b[0m \u001b[0;34m[\u001b[0m\u001b[0mEuc_b1\u001b[0m\u001b[0;34m,\u001b[0m\u001b[0mEuc_b2\u001b[0m\u001b[0;34m,\u001b[0m\u001b[0mEuc_b3\u001b[0m\u001b[0;34m,\u001b[0m\u001b[0mEuc_b4\u001b[0m\u001b[0;34m,\u001b[0m\u001b[0mEuc_b5\u001b[0m\u001b[0;34m,\u001b[0m\u001b[0mEuc_b6\u001b[0m\u001b[0;34m,\u001b[0m\u001b[0mEuc_b7\u001b[0m\u001b[0;34m,\u001b[0m\u001b[0mEuc_b8\u001b[0m\u001b[0;34m,\u001b[0m\u001b[0mEuc_b12\u001b[0m\u001b[0;34m,\u001b[0m\u001b[0mEuc_b13\u001b[0m\u001b[0;34m,\u001b[0m\u001b[0mEuc_b14\u001b[0m\u001b[0;34m,\u001b[0m\u001b[0mEuc_b15\u001b[0m\u001b[0;34m,\u001b[0m\u001b[0mEuc_b16\u001b[0m\u001b[0;34m,\u001b[0m\u001b[0mEuc_b17\u001b[0m\u001b[0;34m,\u001b[0m\u001b[0mEuc_b18\u001b[0m\u001b[0;34m,\u001b[0m\u001b[0mEuc_b19\u001b[0m\u001b[0;34m,\u001b[0m\u001b[0mEuc_b21\u001b[0m\u001b[0;34m,\u001b[0m\u001b[0mEuc_b23\u001b[0m\u001b[0;34m,\u001b[0m\u001b[0mEuc_b24\u001b[0m\u001b[0;34m,\u001b[0m\u001b[0mEuc_b25\u001b[0m\u001b[0;34m,\u001b[0m\u001b[0mEuc_b26\u001b[0m\u001b[0;34m,\u001b[0m\u001b[0mEuc_b27\u001b[0m\u001b[0;34m]\u001b[0m\u001b[0;34m\u001b[0m\u001b[0m\n\u001b[1;32m      3\u001b[0m \u001b[0;34m\u001b[0m\u001b[0m\n\u001b[0;32m----> 4\u001b[0;31m \u001b[0;32mimport\u001b[0m \u001b[0mplotly\u001b[0m\u001b[0;34m.\u001b[0m\u001b[0mgraph_objects\u001b[0m \u001b[0;32mas\u001b[0m \u001b[0mgo\u001b[0m\u001b[0;34m\u001b[0m\u001b[0m\n\u001b[0m\u001b[1;32m      5\u001b[0m \u001b[0;34m\u001b[0m\u001b[0m\n\u001b[1;32m      6\u001b[0m fig = go.Figure(data=[go.Table(header=dict(values=['Case', 'Mean Euclidean Distance - Before Registration']),\n",
      "\u001b[0;31mImportError\u001b[0m: No module named graph_objects"
     ]
    }
   ],
   "source": [
    "cases = [1,2,3,4,5,6,7,8,12,13,14,15,16,17,18,19,21,23,24,25,26,27]\n",
    "distances = [Euc_b1,Euc_b2,Euc_b3,Euc_b4,Euc_b5,Euc_b6,Euc_b7,Euc_b8,Euc_b12,Euc_b13,Euc_b14,Euc_b15,Euc_b16,Euc_b17,Euc_b18,Euc_b19,Euc_b21,Euc_b23,Euc_b24,Euc_b25,Euc_b26,Euc_b27]\n",
    "\n",
    "import plotly.graph_objects as go\n",
    "\n",
    "fig = go.Figure(data=[go.Table(header=dict(values=['Case', 'Mean Euclidean Distance - Before Registration']),\n",
    "                 cells=dict(values=[cases, distances]))\n",
    "                     ])\n",
    "fig.show()"
   ]
  },
  {
   "cell_type": "markdown",
   "metadata": {},
   "source": [
    "# Save dataframe with results"
   ]
  },
  {
   "cell_type": "code",
   "execution_count": 39,
   "metadata": {},
   "outputs": [],
   "source": [
    "cases_df = np.array(cases)\n",
    "distances_df = np.array(distances)\n",
    "df = pd.DataFrame({'Case': cases_df, 'TRE_NR': distances_df}, columns=['Case', 'TRE_NR'])\n",
    "\n",
    "df.to_csv('Par.csv', sep='\\t')"
   ]
  },
  {
   "cell_type": "code",
   "execution_count": null,
   "metadata": {},
   "outputs": [],
   "source": []
  }
 ],
 "metadata": {
  "kernelspec": {
   "display_name": "Python 2",
   "language": "python",
   "name": "python2"
  },
  "language_info": {
   "codemirror_mode": {
    "name": "ipython",
    "version": 2
   },
   "file_extension": ".py",
   "mimetype": "text/x-python",
   "name": "python",
   "nbconvert_exporter": "python",
   "pygments_lexer": "ipython2",
   "version": "2.7.16"
  }
 },
 "nbformat": 4,
 "nbformat_minor": 2
}

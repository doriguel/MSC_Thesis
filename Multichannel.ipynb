{
 "cells": [
  {
   "cell_type": "code",
   "execution_count": 1,
   "metadata": {},
   "outputs": [],
   "source": [
    "import nibabel as nib\n",
    "from nibabel import affines, funcs\n",
    "import os\n",
    "import SimpleITK as sitk\n",
    "import pandas as pd\n",
    "from myshow import myshow, myshow3d\n",
    "from os.path import join"
   ]
  },
  {
   "cell_type": "code",
   "execution_count": 2,
   "metadata": {},
   "outputs": [
    {
     "data": {
      "text/plain": [
       "'C:\\\\Users\\\\Doriguel\\\\Desktop\\\\VUB\\\\Thesis\\\\Python\\\\Python'"
      ]
     },
     "execution_count": 2,
     "metadata": {},
     "output_type": "execute_result"
    }
   ],
   "source": [
    "os.getcwd()"
   ]
  },
  {
   "cell_type": "markdown",
   "metadata": {},
   "source": [
    "# Load Images"
   ]
  },
  {
   "cell_type": "code",
   "execution_count": 17,
   "metadata": {},
   "outputs": [],
   "source": [
    "FLAIR_1 = sitk.ReadImage(r'/home/student/Desktop/Deise/Brain_Data/RESECT/NIFTI/Preprocessed/Case1-MRI_in_US.nii.gz')\n",
    "FLAIR_2 = sitk.ReadImage(r'/home/student/Desktop/Deise/Brain_Data/RESECT/NIFTI/Preprocessed/Case2-MRI_in_US.nii.gz')\n",
    "FLAIR_3 = sitk.ReadImage(r'/home/student/Desktop/Deise/Brain_Data/RESECT/NIFTI/Preprocessed/Case3-MRI_in_US.nii.gz')\n",
    "FLAIR_4 = sitk.ReadImage(r'/home/student/Desktop/Deise/Brain_Data/RESECT/NIFTI/Preprocessed/Case4-MRI_in_US.nii.gz')\n",
    "FLAIR_5 = sitk.ReadImage(r'/home/student/Desktop/Deise/Brain_Data/RESECT/NIFTI/Preprocessed/Case5-MRI_in_US.nii.gz')\n",
    "FLAIR_6 = sitk.ReadImage(r'/home/student/Desktop/Deise/Brain_Data/RESECT/NIFTI/Preprocessed/Case6-MRI_in_US.nii.gz')\n",
    "FLAIR_7 = sitk.ReadImage(r'/home/student/Desktop/Deise/Brain_Data/RESECT/NIFTI/Preprocessed/Case7-MRI_in_US.nii.gz')\n",
    "FLAIR_8 = sitk.ReadImage(r'/home/student/Desktop/Deise/Brain_Data/RESECT/NIFTI/Preprocessed/Case8-MRI_in_US.nii.gz')\n",
    "FLAIR_12 = sitk.ReadImage(r'/home/student/Desktop/Deise/Brain_Data/RESECT/NIFTI/Preprocessed/Case12-MRI_in_US.nii.gz')\n",
    "FLAIR_13 = sitk.ReadImage(r'/home/student/Desktop/Deise/Brain_Data/RESECT/NIFTI/Preprocessed/Case13-MRI_in_US.nii.gz')\n",
    "FLAIR_14 = sitk.ReadImage(r'/home/student/Desktop/Deise/Brain_Data/RESECT/NIFTI/Preprocessed/Case14-MRI_in_US.nii.gz')\n",
    "FLAIR_15 = sitk.ReadImage(r'/home/student/Desktop/Deise/Brain_Data/RESECT/NIFTI/Preprocessed/Case15-MRI_in_US.nii.gz')\n",
    "FLAIR_16 = sitk.ReadImage(r'/home/student/Desktop/Deise/Brain_Data/RESECT/NIFTI/Preprocessed/Case16-MRI_in_US.nii.gz')\n",
    "FLAIR_17 = sitk.ReadImage(r'/home/student/Desktop/Deise/Brain_Data/RESECT/NIFTI/Preprocessed/Case17-MRI_in_US.nii.gz')\n",
    "FLAIR_18 = sitk.ReadImage(r'/home/student/Desktop/Deise/Brain_Data/RESECT/NIFTI/Preprocessed/Case18-MRI_in_US.nii.gz')\n",
    "FLAIR_19 = sitk.ReadImage(r'/home/student/Desktop/Deise/Brain_Data/RESECT/NIFTI/Preprocessed/Case19-MRI_in_US.nii.gz')\n",
    "FLAIR_21 = sitk.ReadImage(r'/home/student/Desktop/Deise/Brain_Data/RESECT/NIFTI/Preprocessed/Case21-MRI_in_US.nii.gz')\n",
    "FLAIR_23 = sitk.ReadImage(r'/home/student/Desktop/Deise/Brain_Data/RESECT/NIFTI/Preprocessed/Case23-MRI_in_US.nii.gz')\n",
    "FLAIR_24 = sitk.ReadImage(r'/home/student/Desktop/Deise/Brain_Data/RESECT/NIFTI/Preprocessed/Case24-MRI_in_US.nii.gz')\n",
    "FLAIR_25 = sitk.ReadImage(r'/home/student/Desktop/Deise/Brain_Data/RESECT/NIFTI/Preprocessed/Case25-MRI_in_US.nii.gz')\n",
    "FLAIR_26 = sitk.ReadImage(r'/home/student/Desktop/Deise/Brain_Data/RESECT/NIFTI/Preprocessed/Case26-MRI_in_US.nii.gz')\n",
    "FLAIR_27 = sitk.ReadImage(r'/home/student/Desktop/Deise/Brain_Data/RESECT/NIFTI/Preprocessed/Case27-MRI_in_US.nii.gz')"
   ]
  },
  {
   "cell_type": "code",
   "execution_count": 18,
   "metadata": {},
   "outputs": [],
   "source": [
    "T1_1 =sitk.ReadImage(r'/home/student/Desktop/Deise/Brain_Data/RESECT/NIFTI/Preprocessed/Case1-MRI-T1_in_US.nii.gz')\n",
    "T1_2 =sitk.ReadImage(r'/home/student/Desktop/Deise/Brain_Data/RESECT/NIFTI/Preprocessed/Case2-MRI-T1_in_US.nii.gz')\n",
    "T1_3 =sitk.ReadImage(r'/home/student/Desktop/Deise/Brain_Data/RESECT/NIFTI/Preprocessed/Case3-MRI-T1_in_US.nii.gz')\n",
    "T1_4 =sitk.ReadImage(r'/home/student/Desktop/Deise/Brain_Data/RESECT/NIFTI/Preprocessed/Case4-MRI-T1_in_US.nii.gz')\n",
    "T1_5 =sitk.ReadImage(r'/home/student/Desktop/Deise/Brain_Data/RESECT/NIFTI/Preprocessed/Case5-MRI-T1_in_US.nii.gz')\n",
    "T1_6 =sitk.ReadImage(r'/home/student/Desktop/Deise/Brain_Data/RESECT/NIFTI/Preprocessed/Case6-MRI-T1_in_US.nii.gz')\n",
    "T1_7 =sitk.ReadImage(r'/home/student/Desktop/Deise/Brain_Data/RESECT/NIFTI/Preprocessed/Case7-MRI-T1_in_US.nii.gz')\n",
    "T1_8 =sitk.ReadImage(r'/home/student/Desktop/Deise/Brain_Data/RESECT/NIFTI/Preprocessed/Case8-MRI-T1_in_US.nii.gz')\n",
    "T1_12 =sitk.ReadImage(r'/home/student/Desktop/Deise/Brain_Data/RESECT/NIFTI/Preprocessed/Case12-MRI-T1_in_US.nii.gz')\n",
    "T1_13 =sitk.ReadImage(r'/home/student/Desktop/Deise/Brain_Data/RESECT/NIFTI/Preprocessed/Case13-MRI-T1_in_US.nii.gz')\n",
    "T1_14 =sitk.ReadImage(r'/home/student/Desktop/Deise/Brain_Data/RESECT/NIFTI/Preprocessed/Case14-MRI-T1_in_US.nii.gz')\n",
    "T1_15 =sitk.ReadImage(r'/home/student/Desktop/Deise/Brain_Data/RESECT/NIFTI/Preprocessed/Case15-MRI-T1_in_US.nii.gz')\n",
    "T1_16 =sitk.ReadImage(r'/home/student/Desktop/Deise/Brain_Data/RESECT/NIFTI/Preprocessed/Case16-MRI-T1_in_US.nii.gz')\n",
    "T1_17 =sitk.ReadImage(r'/home/student/Desktop/Deise/Brain_Data/RESECT/NIFTI/Preprocessed/Case17-MRI-T1_in_US.nii.gz')\n",
    "T1_18 =sitk.ReadImage(r'/home/student/Desktop/Deise/Brain_Data/RESECT/NIFTI/Preprocessed/Case18-MRI-T1_in_US.nii.gz')\n",
    "T1_19 =sitk.ReadImage(r'/home/student/Desktop/Deise/Brain_Data/RESECT/NIFTI/Preprocessed/Case19-MRI-T1_in_US.nii.gz')\n",
    "T1_21 =sitk.ReadImage(r'/home/student/Desktop/Deise/Brain_Data/RESECT/NIFTI/Preprocessed/Case21-MRI-T1_in_US.nii.gz')\n",
    "T1_23 =sitk.ReadImage(r'/home/student/Desktop/Deise/Brain_Data/RESECT/NIFTI/Preprocessed/Case23-MRI-T1_in_US.nii.gz')\n",
    "T1_24 =sitk.ReadImage(r'/home/student/Desktop/Deise/Brain_Data/RESECT/NIFTI/Preprocessed/Case24-MRI-T1_in_US.nii.gz')\n",
    "T1_25 =sitk.ReadImage(r'/home/student/Desktop/Deise/Brain_Data/RESECT/NIFTI/Preprocessed/Case25-MRI-T1_in_US.nii.gz')\n",
    "T1_26 =sitk.ReadImage(r'/home/student/Desktop/Deise/Brain_Data/RESECT/NIFTI/Preprocessed/Case26-MRI-T1_in_US.nii.gz')\n",
    "T1_27 =sitk.ReadImage(r'/home/student/Desktop/Deise/Brain_Data/RESECT/NIFTI/Preprocessed/Case27-MRI-T1_in_US.nii.gz')"
   ]
  },
  {
   "cell_type": "code",
   "execution_count": 14,
   "metadata": {},
   "outputs": [],
   "source": [
    "T_1=sitk.ReadImage(r'/home/student/Desktop/Deise/elastix/bin/My_Data/Preprocessed/Attempt3_Multi/Case1_result/Euler/result.0.nii.gz')"
   ]
  },
  {
   "cell_type": "code",
   "execution_count": 15,
   "metadata": {},
   "outputs": [
    {
     "name": "stdout",
     "output_type": "stream",
     "text": [
      "(151, 136, 119)\n"
     ]
    }
   ],
   "source": [
    "print(T_1.GetSize())"
   ]
  },
  {
   "cell_type": "code",
   "execution_count": 23,
   "metadata": {},
   "outputs": [
    {
     "name": "stdout",
     "output_type": "stream",
     "text": [
      "Image (0x28e2770)\n",
      "  RTTI typeinfo:   itk::Image<float, 3u>\n",
      "  Reference Count: 1\n",
      "  Modified Time: 1347\n",
      "  Debug: Off\n",
      "  Object Name: \n",
      "  Observers: \n",
      "    none\n",
      "  Source: (none)\n",
      "  Source output name: (none)\n",
      "  Release Data: Off\n",
      "  Data Released: False\n",
      "  Global Release Data: Off\n",
      "  PipelineMTime: 1324\n",
      "  UpdateMTime: 1346\n",
      "  RealTimeStamp: 0 seconds \n",
      "  LargestPossibleRegion: \n",
      "    Dimension: 3\n",
      "    Index: [0, 0, 0]\n",
      "    Size: [151, 136, 119]\n",
      "  BufferedRegion: \n",
      "    Dimension: 3\n",
      "    Index: [0, 0, 0]\n",
      "    Size: [151, 136, 119]\n",
      "  RequestedRegion: \n",
      "    Dimension: 3\n",
      "    Index: [0, 0, 0]\n",
      "    Size: [151, 136, 119]\n",
      "  Spacing: [0.498613, 0.497928, 0.499973]\n",
      "  Origin: [19.6299, 53.7206, 20.5048]\n",
      "  Direction: \n",
      "-0.783558 -0.26199 -0.563381\n",
      "-0.0312366 -0.888993 0.456854\n",
      "-0.620533 0.37557 0.688394\n",
      "\n",
      "  IndexToPointMatrix: \n",
      "-0.390692 -0.130452 -0.281675\n",
      "-0.015575 -0.442654 0.228415\n",
      "-0.309405 0.187007 0.344178\n",
      "\n",
      "  PointToIndexMatrix: \n",
      "-1.57148 -0.0626471 -1.24452\n",
      "-0.52616 -1.78539 0.754266\n",
      "-1.12682 0.913757 1.37686\n",
      "\n",
      "  Inverse Direction: \n",
      "-0.783558 -0.0312366 -0.620533\n",
      "-0.26199 -0.888993 0.37557\n",
      "-0.563381 0.456854 0.688394\n",
      "\n",
      "  PixelContainer: \n",
      "    ImportImageContainer (0x2742b60)\n",
      "      RTTI typeinfo:   itk::ImportImageContainer<unsigned long, float>\n",
      "      Reference Count: 1\n",
      "      Modified Time: 1343\n",
      "      Debug: Off\n",
      "      Object Name: \n",
      "      Observers: \n",
      "        none\n",
      "      Pointer: 0x32d4530\n",
      "      Container manages memory: true\n",
      "      Size: 2443784\n",
      "      Capacity: 2443784\n",
      "\n"
     ]
    }
   ],
   "source": [
    "print(T_1)"
   ]
  },
  {
   "cell_type": "markdown",
   "metadata": {},
   "source": [
    "# Concatenate"
   ]
  },
  {
   "cell_type": "code",
   "execution_count": 19,
   "metadata": {},
   "outputs": [],
   "source": [
    "compose = sitk.ComposeImageFilter()"
   ]
  },
  {
   "cell_type": "code",
   "execution_count": 20,
   "metadata": {},
   "outputs": [],
   "source": [
    "C1 = compose.Execute(FLAIR_1, T1_1)\n",
    "C2 = compose.Execute(FLAIR_2, T1_2)\n",
    "C3 = compose.Execute(FLAIR_3, T1_3)\n",
    "C4 = compose.Execute(FLAIR_4, T1_4)\n",
    "C5 = compose.Execute(FLAIR_5, T1_5)\n",
    "C6 = compose.Execute(FLAIR_6, T1_6)\n",
    "C7 = compose.Execute(FLAIR_7, T1_7)\n",
    "C8 = compose.Execute(FLAIR_8, T1_8)\n",
    "C12 = compose.Execute(FLAIR_12, T1_12)\n",
    "C13 = compose.Execute(FLAIR_13, T1_13)\n",
    "C14 = compose.Execute(FLAIR_14, T1_14)\n",
    "C15 = compose.Execute(FLAIR_15, T1_15)\n",
    "C16 = compose.Execute(FLAIR_16, T1_16)\n",
    "C17 = compose.Execute(FLAIR_17, T1_17)\n",
    "C18 = compose.Execute(FLAIR_18, T1_18)\n",
    "C19 = compose.Execute(FLAIR_19, T1_19)\n",
    "C21 = compose.Execute(FLAIR_21, T1_21)\n",
    "C23 = compose.Execute(FLAIR_23, T1_23)\n",
    "C24 = compose.Execute(FLAIR_24, T1_24)\n",
    "C25 = compose.Execute(FLAIR_25, T1_25)\n",
    "C26 = compose.Execute(FLAIR_26, T1_26)\n",
    "C27 = compose.Execute(FLAIR_27, T1_27)"
   ]
  },
  {
   "cell_type": "code",
   "execution_count": 24,
   "metadata": {},
   "outputs": [
    {
     "name": "stdout",
     "output_type": "stream",
     "text": [
      "VectorImage (0x25a0ae0)\n",
      "  RTTI typeinfo:   itk::VectorImage<float, 3u>\n",
      "  Reference Count: 1\n",
      "  Modified Time: 9784\n",
      "  Debug: Off\n",
      "  Object Name: \n",
      "  Observers: \n",
      "    none\n",
      "  Source: (none)\n",
      "  Source output name: (none)\n",
      "  Release Data: Off\n",
      "  Data Released: False\n",
      "  Global Release Data: Off\n",
      "  PipelineMTime: 9769\n",
      "  UpdateMTime: 9783\n",
      "  RealTimeStamp: 0 seconds \n",
      "  LargestPossibleRegion: \n",
      "    Dimension: 3\n",
      "    Index: [0, 0, 0]\n",
      "    Size: [151, 136, 119]\n",
      "  BufferedRegion: \n",
      "    Dimension: 3\n",
      "    Index: [0, 0, 0]\n",
      "    Size: [151, 136, 119]\n",
      "  RequestedRegion: \n",
      "    Dimension: 3\n",
      "    Index: [0, 0, 0]\n",
      "    Size: [151, 136, 119]\n",
      "  Spacing: [0.498613, 0.497928, 0.499973]\n",
      "  Origin: [19.6299, 53.7206, 20.5048]\n",
      "  Direction: \n",
      "-0.783558 -0.26199 -0.563381\n",
      "-0.0312366 -0.888993 0.456854\n",
      "-0.620533 0.37557 0.688394\n",
      "\n",
      "  IndexToPointMatrix: \n",
      "-0.390692 -0.130452 -0.281675\n",
      "-0.015575 -0.442654 0.228415\n",
      "-0.309405 0.187007 0.344178\n",
      "\n",
      "  PointToIndexMatrix: \n",
      "-1.57148 -0.0626471 -1.24452\n",
      "-0.52616 -1.78539 0.754266\n",
      "-1.12682 0.913757 1.37686\n",
      "\n",
      "  Inverse Direction: \n",
      "-0.783558 -0.0312366 -0.620533\n",
      "-0.26199 -0.888993 0.37557\n",
      "-0.563381 0.456854 0.688394\n",
      "\n",
      "  VectorLength: 2\n",
      "  PixelContainer: \n",
      "    ImportImageContainer (0x262acf0)\n",
      "      RTTI typeinfo:   itk::ImportImageContainer<unsigned long, float>\n",
      "      Reference Count: 1\n",
      "      Modified Time: 9780\n",
      "      Debug: Off\n",
      "      Object Name: \n",
      "      Observers: \n",
      "        none\n",
      "      Pointer: 0x1f083540\n",
      "      Container manages memory: true\n",
      "      Size: 4887568\n",
      "      Capacity: 4887568\n",
      "\n"
     ]
    }
   ],
   "source": [
    "print(C1)"
   ]
  },
  {
   "cell_type": "markdown",
   "metadata": {},
   "source": [
    "# Save Image"
   ]
  },
  {
   "cell_type": "code",
   "execution_count": 29,
   "metadata": {},
   "outputs": [],
   "source": [
    "concat_path =r'/home/student/Desktop/Deise/Brain_Data/RESECT/NIFTI/Preprocessed/Multichannel'"
   ]
  },
  {
   "cell_type": "code",
   "execution_count": 30,
   "metadata": {},
   "outputs": [],
   "source": [
    "sitk.WriteImage(C1, join(concat_path,'Case1-Multi.nii.gz'))\n",
    "sitk.WriteImage(C2, join(concat_path,'Case2-Multi.nii.gz'))\n",
    "sitk.WriteImage(C3, join(concat_path,'Case3-Multi.nii.gz'))\n",
    "sitk.WriteImage(C4, join(concat_path,'Case4-Multi.nii.gz'))\n",
    "sitk.WriteImage(C5, join(concat_path,'Case5-Multi.nii.gz'))\n",
    "sitk.WriteImage(C6, join(concat_path,'Case6-Multi.nii.gz'))\n",
    "sitk.WriteImage(C7, join(concat_path,'Case7-Multi.nii.gz'))\n",
    "sitk.WriteImage(C8, join(concat_path,'Case8-Multi.nii.gz'))\n",
    "sitk.WriteImage(C12, join(concat_path,'Case12-Multi.nii.gz'))\n",
    "sitk.WriteImage(C13, join(concat_path,'Case13-Multi.nii.gz'))\n",
    "sitk.WriteImage(C14, join(concat_path,'Case14-Multi.nii.gz'))\n",
    "sitk.WriteImage(C15, join(concat_path,'Case15-Multi.nii.gz'))\n",
    "sitk.WriteImage(C16, join(concat_path,'Case16-Multi.nii.gz'))\n",
    "sitk.WriteImage(C17, join(concat_path,'Case17-Multi.nii.gz'))\n",
    "sitk.WriteImage(C18, join(concat_path,'Case18-Multi.nii.gz'))\n",
    "sitk.WriteImage(C19, join(concat_path,'Case19-Multi.nii.gz'))\n",
    "sitk.WriteImage(C21, join(concat_path,'Case21-Multi.nii.gz'))\n",
    "sitk.WriteImage(C23, join(concat_path,'Case23-Multi.nii.gz'))\n",
    "sitk.WriteImage(C24, join(concat_path,'Case24-Multi.nii.gz'))\n",
    "sitk.WriteImage(C25, join(concat_path,'Case25-Multi.nii.gz'))\n",
    "sitk.WriteImage(C26, join(concat_path,'Case26-Multi.nii.gz'))\n",
    "sitk.WriteImage(C27, join(concat_path,'Case27-Multi.nii.gz'))"
   ]
  },
  {
   "cell_type": "markdown",
   "metadata": {},
   "source": [
    "# Split Multichannel"
   ]
  },
  {
   "cell_type": "code",
   "execution_count": 3,
   "metadata": {},
   "outputs": [
    {
     "name": "stderr",
     "output_type": "stream",
     "text": [
      "C:\\Users\\Doriguel\\Anaconda3\\lib\\site-packages\\sklearn\\externals\\joblib\\__init__.py:15: DeprecationWarning: sklearn.externals.joblib is deprecated in 0.21 and will be removed in 0.23. Please import this functionality directly from joblib, which can be installed with: pip install joblib. If this warning is raised when loading pickled models, you may need to re-serialize those models with scikit-learn 0.21+.\n",
      "  warnings.warn(msg, category=DeprecationWarning)\n"
     ]
    }
   ],
   "source": [
    "from nilearn import image"
   ]
  },
  {
   "cell_type": "code",
   "execution_count": 4,
   "metadata": {},
   "outputs": [],
   "source": [
    "#Load images\n",
    "US_0 = image.load_img(r'C:/Users/Doriguel/Desktop/VUB/Thesis/MIND-SSC/SSC_Dataset/Preprocessed/Case18-US_SSC.nii.gz')\n",
    "FLAIR_0 = image.load_img(r'C:/Users/Doriguel/Desktop/VUB/Thesis/MIND-SSC/SSC_Dataset/Preprocessed/Case18-FLAIR_SSC.nii.gz')\n",
    "T1_0 = image.load_img(r'C:/Users/Doriguel/Desktop/VUB/Thesis/MIND-SSC/SSC_Dataset/Preprocessed/Case27-T1_SSC.nii.gz')"
   ]
  },
  {
   "cell_type": "code",
   "execution_count": 5,
   "metadata": {},
   "outputs": [],
   "source": [
    "#Split Images\n",
    "\n",
    "US_ch1 = image.index_img(US_0, 0)\n",
    "US_ch2 = image.index_img(US_0, 1)\n",
    "US_ch3 = image.index_img(US_0, 2)\n",
    "US_ch4 = image.index_img(US_0, 3)\n",
    "US_ch5 = image.index_img(US_0, 4)\n",
    "US_ch6 = image.index_img(US_0, 5)\n",
    "US_ch7 = image.index_img(US_0, 6)\n",
    "US_ch8 = image.index_img(US_0, 7)\n",
    "US_ch9 = image.index_img(US_0, 8)\n",
    "US_ch10 = image.index_img(US_0, 9)\n",
    "US_ch11 = image.index_img(US_0, 10)\n",
    "US_ch12 = image.index_img(US_0, 11)\n",
    "\n",
    "FLAIR_ch1 = image.index_img(FLAIR_0, 0)\n",
    "FLAIR_ch2 = image.index_img(FLAIR_0, 1)\n",
    "FLAIR_ch3 = image.index_img(FLAIR_0, 2)\n",
    "FLAIR_ch4 = image.index_img(FLAIR_0, 3)\n",
    "FLAIR_ch5 = image.index_img(FLAIR_0, 4)\n",
    "FLAIR_ch6 = image.index_img(FLAIR_0, 5)\n",
    "FLAIR_ch7 = image.index_img(FLAIR_0, 6)\n",
    "FLAIR_ch8 = image.index_img(FLAIR_0, 7)\n",
    "FLAIR_ch9 = image.index_img(FLAIR_0, 8)\n",
    "FLAIR_ch10 = image.index_img(FLAIR_0, 9)\n",
    "FLAIR_ch11 = image.index_img(FLAIR_0, 10)\n",
    "FLAIR_ch12 = image.index_img(FLAIR_0, 11)\n",
    "\n",
    "T1_ch1 = image.index_img(T1_0, 0)\n",
    "T1_ch2 = image.index_img(T1_0, 1)\n",
    "T1_ch3 = image.index_img(T1_0, 2)\n",
    "T1_ch4 = image.index_img(T1_0, 3)\n",
    "T1_ch5 = image.index_img(T1_0, 4)\n",
    "T1_ch6 = image.index_img(T1_0, 5)\n",
    "T1_ch7 = image.index_img(T1_0, 6)\n",
    "T1_ch8 = image.index_img(T1_0, 7)\n",
    "T1_ch9 = image.index_img(T1_0, 8)\n",
    "T1_ch10 = image.index_img(T1_0, 9)\n",
    "T1_ch11 = image.index_img(T1_0, 10)\n",
    "T1_ch12 = image.index_img(T1_0, 11)"
   ]
  },
  {
   "cell_type": "code",
   "execution_count": 6,
   "metadata": {},
   "outputs": [],
   "source": [
    "# Save in this folder\n",
    "path =r'C:/Users/Doriguel/Desktop/VUB/Thesis/MIND-SSC/SSC_Dataset/Preprocessed/3D/Case18'"
   ]
  },
  {
   "cell_type": "code",
   "execution_count": 8,
   "metadata": {},
   "outputs": [],
   "source": [
    "#Write images\n",
    "US_ch1.to_filename(join(path,'US-Ch1.nii.gz'))\n",
    "US_ch2.to_filename(join(path,'US-Ch2.nii.gz'))\n",
    "US_ch3.to_filename(join(path,'US-Ch3.nii.gz'))\n",
    "US_ch4.to_filename(join(path,'US-Ch4.nii.gz'))\n",
    "US_ch5.to_filename(join(path,'US-Ch5.nii.gz'))\n",
    "US_ch6.to_filename(join(path,'US-Ch6.nii.gz'))\n",
    "US_ch7.to_filename(join(path,'US-Ch7.nii.gz'))\n",
    "US_ch8.to_filename(join(path,'US-Ch8.nii.gz'))\n",
    "US_ch9.to_filename(join(path,'US-Ch9.nii.gz'))\n",
    "US_ch10.to_filename(join(path,'US-Ch10.nii.gz'))\n",
    "US_ch11.to_filename(join(path,'US-Ch11.nii.gz'))\n",
    "US_ch12.to_filename(join(path,'US-Ch12.nii.gz'))\n",
    "\n",
    "FLAIR_ch1.to_filename(join(path,'FLAIR-Ch1.nii.gz'))\n",
    "FLAIR_ch2.to_filename(join(path,'FLAIR-Ch2.nii.gz'))\n",
    "FLAIR_ch3.to_filename(join(path,'FLAIR-Ch3.nii.gz'))\n",
    "FLAIR_ch4.to_filename(join(path,'FLAIR-Ch4.nii.gz'))\n",
    "FLAIR_ch5.to_filename(join(path,'FLAIR-Ch5.nii.gz'))\n",
    "FLAIR_ch6.to_filename(join(path,'FLAIR-Ch6.nii.gz'))\n",
    "FLAIR_ch7.to_filename(join(path,'FLAIR-Ch7.nii.gz'))\n",
    "FLAIR_ch8.to_filename(join(path,'FLAIR-Ch8.nii.gz'))\n",
    "FLAIR_ch9.to_filename(join(path,'FLAIR-Ch9.nii.gz'))\n",
    "FLAIR_ch10.to_filename(join(path,'FLAIR-Ch10.nii.gz'))\n",
    "FLAIR_ch11.to_filename(join(path,'FLAIR-Ch11.nii.gz'))\n",
    "FLAIR_ch12.to_filename(join(path,'FLAIR-Ch12.nii.gz'))\n",
    "\n",
    "T1_ch1.to_filename(join(path,'T1-Ch1.nii.gz'))\n",
    "T1_ch2.to_filename(join(path,'T1-Ch2.nii.gz'))\n",
    "T1_ch3.to_filename(join(path,'T1-Ch3.nii.gz'))\n",
    "T1_ch4.to_filename(join(path,'T1-Ch4.nii.gz'))\n",
    "T1_ch5.to_filename(join(path,'T1-Ch5.nii.gz'))\n",
    "T1_ch6.to_filename(join(path,'T1-Ch6.nii.gz'))\n",
    "T1_ch7.to_filename(join(path,'T1-Ch7.nii.gz'))\n",
    "T1_ch8.to_filename(join(path,'T1-Ch8.nii.gz'))\n",
    "T1_ch9.to_filename(join(path,'T1-Ch9.nii.gz'))\n",
    "T1_ch10.to_filename(join(path,'T1-Ch10.nii.gz'))\n",
    "T1_ch11.to_filename(join(path,'T1-Ch11.nii.gz'))\n",
    "T1_ch12.to_filename(join(path,'T1-Ch12.nii.gz'))"
   ]
  },
  {
   "cell_type": "code",
   "execution_count": null,
   "metadata": {},
   "outputs": [],
   "source": []
  }
 ],
 "metadata": {
  "kernelspec": {
   "display_name": "Python 3",
   "language": "python",
   "name": "python3"
  },
  "language_info": {
   "codemirror_mode": {
    "name": "ipython",
    "version": 3
   },
   "file_extension": ".py",
   "mimetype": "text/x-python",
   "name": "python",
   "nbconvert_exporter": "python",
   "pygments_lexer": "ipython3",
   "version": "3.7.3"
  }
 },
 "nbformat": 4,
 "nbformat_minor": 2
}

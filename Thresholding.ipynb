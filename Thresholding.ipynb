{
 "cells": [
  {
   "cell_type": "code",
   "execution_count": 1,
   "metadata": {},
   "outputs": [],
   "source": [
    "import os\n",
    "import SimpleITK as sitk\n",
    "from myshow import myshow, myshow3d\n",
    "import nibabel as nib\n",
    "from os.path import join"
   ]
  },
  {
   "cell_type": "code",
   "execution_count": 2,
   "metadata": {},
   "outputs": [
    {
     "data": {
      "text/plain": [
       "'C:\\\\Users\\\\Doriguel\\\\Desktop\\\\VUB\\\\Thesis\\\\Python\\\\Python'"
      ]
     },
     "execution_count": 2,
     "metadata": {},
     "output_type": "execute_result"
    }
   ],
   "source": [
    "os.getcwd()"
   ]
  },
  {
   "cell_type": "code",
   "execution_count": 3,
   "metadata": {},
   "outputs": [],
   "source": [
    "US1=sitk.ReadImage(r'\\Users\\Doriguel\\Desktop\\VUB\\Thesis\\deedsBCV-master\\NIFTI\\Preprocessed\\Case1-US.nii.gz')\n",
    "US2=sitk.ReadImage(r'\\Users\\Doriguel\\Desktop\\VUB\\Thesis\\deedsBCV-master\\NIFTI\\Preprocessed\\Case2-US.nii.gz')\n",
    "US3=sitk.ReadImage(r'\\Users\\Doriguel\\Desktop\\VUB\\Thesis\\deedsBCV-master\\NIFTI\\Preprocessed\\Case3-US.nii.gz')\n",
    "US4=sitk.ReadImage(r'\\Users\\Doriguel\\Desktop\\VUB\\Thesis\\deedsBCV-master\\NIFTI\\Preprocessed\\Case4-US.nii.gz')\n",
    "US5=sitk.ReadImage(r'\\Users\\Doriguel\\Desktop\\VUB\\Thesis\\deedsBCV-master\\NIFTI\\Preprocessed\\Case5-US.nii.gz')\n",
    "US6=sitk.ReadImage(r'\\Users\\Doriguel\\Desktop\\VUB\\Thesis\\deedsBCV-master\\NIFTI\\Preprocessed\\Case6-US.nii.gz')\n",
    "US7=sitk.ReadImage(r'\\Users\\Doriguel\\Desktop\\VUB\\Thesis\\deedsBCV-master\\NIFTI\\Preprocessed\\Case7-US.nii.gz')\n",
    "US8=sitk.ReadImage(r'\\Users\\Doriguel\\Desktop\\VUB\\Thesis\\deedsBCV-master\\NIFTI\\Preprocessed\\Case8-US.nii.gz')\n",
    "US12=sitk.ReadImage(r'\\Users\\Doriguel\\Desktop\\VUB\\Thesis\\deedsBCV-master\\NIFTI\\Preprocessed\\Case12-US.nii.gz')\n",
    "US13=sitk.ReadImage(r'\\Users\\Doriguel\\Desktop\\VUB\\Thesis\\deedsBCV-master\\NIFTI\\Preprocessed\\Case13-US.nii.gz')\n",
    "US14=sitk.ReadImage(r'\\Users\\Doriguel\\Desktop\\VUB\\Thesis\\deedsBCV-master\\NIFTI\\Preprocessed\\Case14-US.nii.gz')\n",
    "US15=sitk.ReadImage(r'\\Users\\Doriguel\\Desktop\\VUB\\Thesis\\deedsBCV-master\\NIFTI\\Preprocessed\\Case15-US.nii.gz')\n",
    "US16=sitk.ReadImage(r'\\Users\\Doriguel\\Desktop\\VUB\\Thesis\\deedsBCV-master\\NIFTI\\Preprocessed\\Case16-US.nii.gz')\n",
    "US17=sitk.ReadImage(r'\\Users\\Doriguel\\Desktop\\VUB\\Thesis\\deedsBCV-master\\NIFTI\\Preprocessed\\Case17-US.nii.gz')\n",
    "US18=sitk.ReadImage(r'\\Users\\Doriguel\\Desktop\\VUB\\Thesis\\deedsBCV-master\\NIFTI\\Preprocessed\\Case18-US.nii.gz')\n",
    "US19=sitk.ReadImage(r'\\Users\\Doriguel\\Desktop\\VUB\\Thesis\\deedsBCV-master\\NIFTI\\Preprocessed\\Case19-US.nii.gz')\n",
    "US21=sitk.ReadImage(r'\\Users\\Doriguel\\Desktop\\VUB\\Thesis\\deedsBCV-master\\NIFTI\\Preprocessed\\Case21-US.nii.gz')\n",
    "US23=sitk.ReadImage(r'\\Users\\Doriguel\\Desktop\\VUB\\Thesis\\deedsBCV-master\\NIFTI\\Preprocessed\\Case23-US.nii.gz')\n",
    "US24=sitk.ReadImage(r'\\Users\\Doriguel\\Desktop\\VUB\\Thesis\\deedsBCV-master\\NIFTI\\Preprocessed\\Case24-US.nii.gz')\n",
    "US25=sitk.ReadImage(r'\\Users\\Doriguel\\Desktop\\VUB\\Thesis\\deedsBCV-master\\NIFTI\\Preprocessed\\Case25-US.nii.gz')\n",
    "US26=sitk.ReadImage(r'\\Users\\Doriguel\\Desktop\\VUB\\Thesis\\deedsBCV-master\\NIFTI\\Preprocessed\\Case26-US.nii.gz')\n",
    "US27=sitk.ReadImage(r'\\Users\\Doriguel\\Desktop\\VUB\\Thesis\\deedsBCV-master\\NIFTI\\Preprocessed\\Case27-US.nii.gz')"
   ]
  },
  {
   "cell_type": "code",
   "execution_count": 4,
   "metadata": {},
   "outputs": [],
   "source": [
    "US1_255 = sitk.Cast(sitk.RescaleIntensity(US1), sitk.sitkUInt8)\n",
    "US2_255 = sitk.Cast(sitk.RescaleIntensity(US2), sitk.sitkUInt8)\n",
    "US3_255 = sitk.Cast(sitk.RescaleIntensity(US3), sitk.sitkUInt8)\n",
    "US4_255 = sitk.Cast(sitk.RescaleIntensity(US4), sitk.sitkUInt8)\n",
    "US5_255 = sitk.Cast(sitk.RescaleIntensity(US5), sitk.sitkUInt8)\n",
    "US6_255 = sitk.Cast(sitk.RescaleIntensity(US6), sitk.sitkUInt8)\n",
    "US7_255 = sitk.Cast(sitk.RescaleIntensity(US7), sitk.sitkUInt8)\n",
    "US8_255 = sitk.Cast(sitk.RescaleIntensity(US8), sitk.sitkUInt8)\n",
    "US12_255 = sitk.Cast(sitk.RescaleIntensity(US12), sitk.sitkUInt8)\n",
    "US13_255 = sitk.Cast(sitk.RescaleIntensity(US13), sitk.sitkUInt8)\n",
    "US14_255 = sitk.Cast(sitk.RescaleIntensity(US14), sitk.sitkUInt8)\n",
    "US15_255 = sitk.Cast(sitk.RescaleIntensity(US15), sitk.sitkUInt8)\n",
    "US16_255 = sitk.Cast(sitk.RescaleIntensity(US16), sitk.sitkUInt8)\n",
    "US17_255 = sitk.Cast(sitk.RescaleIntensity(US17), sitk.sitkUInt8)\n",
    "US18_255 = sitk.Cast(sitk.RescaleIntensity(US18), sitk.sitkUInt8)\n",
    "US19_255 = sitk.Cast(sitk.RescaleIntensity(US19), sitk.sitkUInt8)\n",
    "US21_255 = sitk.Cast(sitk.RescaleIntensity(US21), sitk.sitkUInt8)\n",
    "US23_255 = sitk.Cast(sitk.RescaleIntensity(US23), sitk.sitkUInt8)\n",
    "US24_255 = sitk.Cast(sitk.RescaleIntensity(US24), sitk.sitkUInt8)\n",
    "US25_255 = sitk.Cast(sitk.RescaleIntensity(US25), sitk.sitkUInt8)\n",
    "US26_255 = sitk.Cast(sitk.RescaleIntensity(US26), sitk.sitkUInt8)\n",
    "US27_255 = sitk.Cast(sitk.RescaleIntensity(US27), sitk.sitkUInt8)"
   ]
  },
  {
   "cell_type": "code",
   "execution_count": 5,
   "metadata": {},
   "outputs": [],
   "source": [
    "seg1 = US1>0\n",
    "seg2 = US2>0\n",
    "seg3 = US3>0\n",
    "seg4 = US4>0\n",
    "seg5 = US5>0\n",
    "seg6 = US6>0\n",
    "seg7 = US7>0\n",
    "seg8 = US8>0\n",
    "seg12 = US12>0\n",
    "seg13 = US13>0\n",
    "seg14 = US14>0\n",
    "seg15 = US15>0\n",
    "seg16 = US16>0\n",
    "seg17 = US17>0\n",
    "seg18 = US18>0\n",
    "seg19 = US19>0\n",
    "seg21 = US21>0\n",
    "seg23 = US23>0\n",
    "seg24 = US24>0\n",
    "seg25 = US25>0\n",
    "seg26 = US26>0\n",
    "seg27 = US27>0"
   ]
  },
  {
   "cell_type": "code",
   "execution_count": 6,
   "metadata": {},
   "outputs": [],
   "source": [
    "filt =sitk.BinaryDilateImageFilter()\n",
    "filt.SetKernelRadius(10)\n",
    "filt.SetForegroundValue(1)\n",
    "\n",
    "dilated1 = filt.Execute(seg1)\n",
    "dilated2 = filt.Execute(seg2)\n",
    "dilated3 = filt.Execute(seg3)\n",
    "dilated4 = filt.Execute(seg4)\n",
    "dilated5 = filt.Execute(seg5)\n",
    "dilated6 = filt.Execute(seg6)\n",
    "dilated7 = filt.Execute(seg7)\n",
    "dilated8 = filt.Execute(seg8)\n",
    "dilated12 = filt.Execute(seg12)\n",
    "dilated13 = filt.Execute(seg13)\n",
    "dilated14 = filt.Execute(seg14)\n",
    "dilated15 = filt.Execute(seg15)\n",
    "dilated16 = filt.Execute(seg16)\n",
    "dilated17 = filt.Execute(seg17)\n",
    "dilated18 = filt.Execute(seg18)\n",
    "dilated19 = filt.Execute(seg19)\n",
    "dilated21 = filt.Execute(seg21)\n",
    "dilated23 = filt.Execute(seg23)\n",
    "dilated24 = filt.Execute(seg24)\n",
    "dilated25 = filt.Execute(seg25)\n",
    "dilated26 = filt.Execute(seg26)\n",
    "dilated27 = filt.Execute(seg27)"
   ]
  },
  {
   "cell_type": "code",
   "execution_count": 7,
   "metadata": {},
   "outputs": [
    {
     "data": {
      "application/vnd.jupyter.widget-view+json": {
       "model_id": "6579edc4d71e4fe688e3370833ab411a",
       "version_major": 2,
       "version_minor": 0
      },
      "text/plain": [
       "interactive(children=(IntSlider(value=59, description='z', max=118), Output()), _dom_classes=('widget-interact…"
      ]
     },
     "metadata": {},
     "output_type": "display_data"
    },
    {
     "data": {
      "application/vnd.jupyter.widget-view+json": {
       "model_id": "41e8d37d6b7d43fabbbe3560bab7469e",
       "version_major": 2,
       "version_minor": 0
      },
      "text/plain": [
       "interactive(children=(IntSlider(value=59, description='z', max=118), Output()), _dom_classes=('widget-interact…"
      ]
     },
     "metadata": {},
     "output_type": "display_data"
    }
   ],
   "source": [
    "myshow(seg1)\n",
    "myshow(dilated1)"
   ]
  },
  {
   "cell_type": "code",
   "execution_count": 8,
   "metadata": {},
   "outputs": [],
   "source": [
    "mask_path=r'\\Users\\Doriguel\\Desktop\\VUB\\Thesis\\deedsBCV-master\\NIFTI\\Preprocessed'"
   ]
  },
  {
   "cell_type": "code",
   "execution_count": 9,
   "metadata": {},
   "outputs": [],
   "source": [
    "sitk.WriteImage(dilated1, join(mask_path,'Case1-US-mask.nii.gz'))\n",
    "sitk.WriteImage(dilated2, join(mask_path,'Case2-US-mask.nii.gz'))\n",
    "sitk.WriteImage(dilated3, join(mask_path,'Case3-US-mask.nii.gz'))\n",
    "sitk.WriteImage(dilated4, join(mask_path,'Case4-US-mask.nii.gz'))\n",
    "sitk.WriteImage(dilated5, join(mask_path,'Case5-US-mask.nii.gz'))\n",
    "sitk.WriteImage(dilated6, join(mask_path,'Case6-US-mask.nii.gz'))\n",
    "sitk.WriteImage(dilated7, join(mask_path,'Case7-US-mask.nii.gz'))\n",
    "sitk.WriteImage(dilated8, join(mask_path,'Case8-US-mask.nii.gz'))\n",
    "sitk.WriteImage(dilated12, join(mask_path,'Case12-US-mask.nii.gz'))\n",
    "sitk.WriteImage(dilated13, join(mask_path,'Case13-US-mask.nii.gz'))\n",
    "sitk.WriteImage(dilated14, join(mask_path,'Case14-US-mask.nii.gz'))\n",
    "sitk.WriteImage(dilated15, join(mask_path,'Case15-US-mask.nii.gz'))\n",
    "sitk.WriteImage(dilated16, join(mask_path,'Case16-US-mask.nii.gz'))\n",
    "sitk.WriteImage(dilated17, join(mask_path,'Case17-US-mask.nii.gz'))\n",
    "sitk.WriteImage(dilated18, join(mask_path,'Case18-US-mask.nii.gz'))\n",
    "sitk.WriteImage(dilated19, join(mask_path,'Case19-US-mask.nii.gz'))\n",
    "sitk.WriteImage(dilated21, join(mask_path,'Case21-US-mask.nii.gz'))\n",
    "sitk.WriteImage(dilated23, join(mask_path,'Case23-US-mask.nii.gz'))\n",
    "sitk.WriteImage(dilated24, join(mask_path,'Case24-US-mask.nii.gz'))\n",
    "sitk.WriteImage(dilated25, join(mask_path,'Case25-US-mask.nii.gz'))\n",
    "sitk.WriteImage(dilated26, join(mask_path,'Case26-US-mask.nii.gz'))\n",
    "sitk.WriteImage(dilated27, join(mask_path,'Case27-US-mask.nii.gz'))"
   ]
  },
  {
   "cell_type": "code",
   "execution_count": null,
   "metadata": {},
   "outputs": [],
   "source": []
  }
 ],
 "metadata": {
  "kernelspec": {
   "display_name": "Python 3",
   "language": "python",
   "name": "python3"
  },
  "language_info": {
   "codemirror_mode": {
    "name": "ipython",
    "version": 3
   },
   "file_extension": ".py",
   "mimetype": "text/x-python",
   "name": "python",
   "nbconvert_exporter": "python",
   "pygments_lexer": "ipython3",
   "version": "3.7.3"
  }
 },
 "nbformat": 4,
 "nbformat_minor": 2
}

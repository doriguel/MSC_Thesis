{
 "cells": [
  {
   "cell_type": "markdown",
   "metadata": {},
   "source": [
    "# Load landmarks"
   ]
  },
  {
   "cell_type": "code",
   "execution_count": 14,
   "metadata": {},
   "outputs": [
    {
     "ename": "ModuleNotFoundError",
     "evalue": "No module named 'textract'",
     "output_type": "error",
     "traceback": [
      "\u001b[0;31m---------------------------------------------------------------------------\u001b[0m",
      "\u001b[0;31mModuleNotFoundError\u001b[0m                       Traceback (most recent call last)",
      "\u001b[0;32m<ipython-input-14-af854cefd966>\u001b[0m in \u001b[0;36m<module>\u001b[0;34m\u001b[0m\n\u001b[1;32m      1\u001b[0m \u001b[0;32mimport\u001b[0m \u001b[0mos\u001b[0m\u001b[0;34m\u001b[0m\u001b[0;34m\u001b[0m\u001b[0m\n\u001b[0;32m----> 2\u001b[0;31m \u001b[0;32mimport\u001b[0m \u001b[0mtextract\u001b[0m\u001b[0;34m\u001b[0m\u001b[0;34m\u001b[0m\u001b[0m\n\u001b[0m",
      "\u001b[0;31mModuleNotFoundError\u001b[0m: No module named 'textract'"
     ]
    }
   ],
   "source": [
    "import os\n",
    "import textract"
   ]
  },
  {
   "cell_type": "code",
   "execution_count": null,
   "metadata": {},
   "outputs": [],
   "source": [
    "L1 = textract.process(r'Brain_Data/RESECT/MINC/Case1/landmarks/Case1-MRI-beforeUS.tag')"
   ]
  },
  {
   "cell_type": "code",
   "execution_count": 11,
   "metadata": {},
   "outputs": [],
   "source": [
    "# 22 cases in total\n",
    "L1 = textract.process(r'Brain_Data/RESECT/MINC/Case1/landmarks/Case1-MRI-beforeUS.tag', encoding='utf-8')\n",
    "L2 = open(r'Brain_Data/RESECT/MINC/Case2/landmarks/Case2-MRI-beforeUS.tag', encoding='utf-8')\n",
    "L3 = open(r'Brain_Data/RESECT/MINC/Case3/landmarks/Case3-MRI-beforeUS.tag', encoding='utf-8')\n",
    "L4 = open(r'Brain_Data/RESECT/MINC/Case4/landmarks/Case4-MRI-beforeUS.tag', encoding='utf-8')\n",
    "L5 = open(r'Brain_Data/RESECT/MINC/Case5/landmarks/Case5-MRI-beforeUS.tag', encoding='utf-8')\n",
    "L6 = open(r'Brain_Data/RESECT/MINC/Case6/landmarks/Case6-MRI-beforeUS.tag', encoding='utf-8')\n",
    "L7 = open(r'Brain_Data/RESECT/MINC/Case7/landmarks/Case7-MRI-beforeUS.tag', encoding='utf-8')\n",
    "L8 = open(r'Brain_Data/RESECT/MINC/Case8/landmarks/Case8-MRI-beforeUS.tag', encoding='utf-8')\n",
    "L12 = open(r'Brain_Data/RESECT/MINC/Case12/landmarks/Case12-MRI-beforeUS.tag', encoding='utf-8')\n",
    "L13 = open(r'Brain_Data/RESECT/MINC/Case13/landmarks/Case13-MRI-beforeUS.tag', encoding='utf-8')\n",
    "L14 = open(r'Brain_Data/RESECT/MINC/Case14/landmarks/Case14-MRI-beforeUS.tag', encoding='utf-8')\n",
    "L15 = open(r'Brain_Data/RESECT/MINC/Case15/landmarks/Case15-MRI-beforeUS.tag', encoding='utf-8')\n",
    "L16 = open(r'Brain_Data/RESECT/MINC/Case16/landmarks/Case16-MRI-beforeUS.tag', encoding='utf-8')\n",
    "L17 = open(r'Brain_Data/RESECT/MINC/Case17/landmarks/Case17-MRI-beforeUS.tag', encoding='utf-8')\n",
    "L18 = open(r'Brain_Data/RESECT/MINC/Case18/landmarks/Case18-MRI-beforeUS.tag', encoding='utf-8')\n",
    "L19 = open(r'Brain_Data/RESECT/MINC/Case19/landmarks/Case19-MRI-beforeUS.tag', encoding='utf-8')\n",
    "L21 = open(r'Brain_Data/RESECT/MINC/Case21/landmarks/Case21-MRI-beforeUS.tag', encoding='utf-8')\n",
    "L23 = open(r'Brain_Data/RESECT/MINC/Case23/landmarks/Case23-MRI-beforeUS.tag', encoding='utf-8')\n",
    "L24 = open(r'Brain_Data/RESECT/MINC/Case24/landmarks/Case24-MRI-beforeUS.tag', encoding='utf-8')\n",
    "L25 = open(r'Brain_Data/RESECT/MINC/Case25/landmarks/Case25-MRI-beforeUS.tag', encoding='utf-8')\n",
    "L26 = open(r'Brain_Data/RESECT/MINC/Case26/landmarks/Case26-MRI-beforeUS.tag', encoding='utf-8')\n",
    "L27 = open(r'Brain_Data/RESECT/MINC/Case27/landmarks/Case27-MRI-beforeUS.tag', encoding='utf-8')"
   ]
  },
  {
   "cell_type": "code",
   "execution_count": 12,
   "metadata": {},
   "outputs": [
    {
     "ename": "AttributeError",
     "evalue": "'_io.TextIOWrapper' object has no attribute 'Range'",
     "output_type": "error",
     "traceback": [
      "\u001b[0;31m---------------------------------------------------------------------------\u001b[0m",
      "\u001b[0;31mAttributeError\u001b[0m                            Traceback (most recent call last)",
      "\u001b[0;32m<ipython-input-12-8322a74c395a>\u001b[0m in \u001b[0;36m<module>\u001b[0;34m\u001b[0m\n\u001b[0;32m----> 1\u001b[0;31m \u001b[0mL1_txt\u001b[0m \u001b[0;34m=\u001b[0m \u001b[0mL1\u001b[0m\u001b[0;34m.\u001b[0m\u001b[0mRange\u001b[0m\u001b[0;34m(\u001b[0m\u001b[0;34m)\u001b[0m\u001b[0;34m.\u001b[0m\u001b[0mText\u001b[0m\u001b[0;34m\u001b[0m\u001b[0;34m\u001b[0m\u001b[0m\n\u001b[0m",
      "\u001b[0;31mAttributeError\u001b[0m: '_io.TextIOWrapper' object has no attribute 'Range'"
     ]
    }
   ],
   "source": [
    "L1_txt = L1.Range().Text"
   ]
  },
  {
   "cell_type": "code",
   "execution_count": null,
   "metadata": {},
   "outputs": [],
   "source": []
  }
 ],
 "metadata": {
  "kernelspec": {
   "display_name": "Python 3",
   "language": "python",
   "name": "python3"
  },
  "language_info": {
   "codemirror_mode": {
    "name": "ipython",
    "version": 3
   },
   "file_extension": ".py",
   "mimetype": "text/x-python",
   "name": "python",
   "nbconvert_exporter": "python",
   "pygments_lexer": "ipython3",
   "version": "3.7.3"
  }
 },
 "nbformat": 4,
 "nbformat_minor": 2
}
